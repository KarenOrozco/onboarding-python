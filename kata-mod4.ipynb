{
 "cells": [
  {
   "cell_type": "markdown",
   "metadata": {},
   "source": [
    "KATA MÓDULO 4"
   ]
  },
  {
   "cell_type": "markdown",
   "metadata": {},
   "source": [
    "EJERCICIO 1"
   ]
  },
  {
   "cell_type": "code",
   "execution_count": 91,
   "metadata": {},
   "outputs": [
    {
     "name": "stdout",
     "output_type": "stream",
     "text": [
      " \n",
      "On average, the Moon moves 4cm away from the Earth every year\n",
      " The highest daylight temperature of the Moon is 127 Celsius\n"
     ]
    }
   ],
   "source": [
    "text = \"\"\"Interesting facts about the Moon. The Moon is Earth's only satellite. There are several interesting facts about the Moon and how it affects life here on Earth. \n",
    "On average, the Moon moves 4cm away from the Earth every year. This yearly drift is not significant enough to cause immediate effects on Earth. The highest daylight temperature of the Moon is 127 C.\"\"\"\n",
    "\n",
    "sentences = text.split('.')\n",
    "\n",
    "keysWord = ['average', 'temperature', 'distance']\n",
    "\n",
    "for sentence in sentences:\n",
    "    for keyWord in keysWord:\n",
    "        if sentence.find(keyWord) != -1:\n",
    "            sentence = sentence.replace('C','Celsius')\n",
    "            print(sentence)"
   ]
  },
  {
   "cell_type": "markdown",
   "metadata": {},
   "source": [
    "EJERCICIO 2"
   ]
  },
  {
   "cell_type": "code",
   "execution_count": 106,
   "metadata": {},
   "outputs": [],
   "source": [
    "name = \"moon\"\n",
    "gravity = 1.43\n",
    "planet = \"earth\""
   ]
  },
  {
   "cell_type": "code",
   "execution_count": 107,
   "metadata": {},
   "outputs": [
    {
     "name": "stdout",
     "output_type": "stream",
     "text": [
      "gravity facts about moon\n",
      "--------------------------\n",
      "Planet Name: earth\n",
      "Gravity on moon: 1430.0 m/s2\n",
      "\n"
     ]
    }
   ],
   "source": [
    "\n",
    "title = \"gravity facts about \" + name\n",
    "content = f\"\"\"\n",
    "--------------------------\n",
    "Planet Name: {planet}\n",
    "Gravity on {name}: {gravity*1000} m/s2\n",
    "\"\"\"\n",
    "\n",
    "template = title + content\n",
    "print(template)"
   ]
  },
  {
   "cell_type": "code",
   "execution_count": 108,
   "metadata": {},
   "outputs": [
    {
     "name": "stdout",
     "output_type": "stream",
     "text": [
      "gravity facts about moon\n",
      "--------------------------\n",
      "Planet Name: earth\n",
      "Gravity on moon: 1430.0 m/s2\n",
      "\n"
     ]
    }
   ],
   "source": [
    "name = \"ganimedes\"\n",
    "gravity = 1.43\n",
    "planet = \"marte\"\n",
    "\n",
    "print(template)"
   ]
  },
  {
   "cell_type": "code",
   "execution_count": 110,
   "metadata": {},
   "outputs": [
    {
     "name": "stdout",
     "output_type": "stream",
     "text": [
      "gravity facts about ganimedes\n",
      "--------------------------\n",
      "Planet Name: marte\n",
      "Gravity on ganimedes: 1.43 m/s2\n",
      "\n"
     ]
    }
   ],
   "source": [
    "template = \"\"\"gravity facts about {name}\n",
    "--------------------------\n",
    "Planet Name: {planet}\n",
    "Gravity on {name}: {gravity} m/s2\n",
    "\"\"\"\n",
    "\n",
    "print(template.format(name=name, gravity=gravity*1000, planet=planet))"
   ]
  },
  {
   "cell_type": "code",
   "execution_count": 111,
   "metadata": {},
   "outputs": [],
   "source": [
    "name = \"moonJ\"\n",
    "gravity = 2.65\n",
    "planet = \"Jupyter\""
   ]
  },
  {
   "cell_type": "code",
   "execution_count": 112,
   "metadata": {},
   "outputs": [
    {
     "name": "stdout",
     "output_type": "stream",
     "text": [
      "gravity facts about moonJ\n",
      "--------------------------\n",
      "Planet Name: Jupyter\n",
      "Gravity on moonJ: 2650.0 m/s2\n",
      "\n"
     ]
    }
   ],
   "source": [
    "print(template.format(name=name, gravity=gravity*1000, planet=planet))"
   ]
  },
  {
   "cell_type": "markdown",
   "metadata": {},
   "source": [
    "EJEMPLOS DOCUMENTACIÓN MÓDULO 4"
   ]
  },
  {
   "cell_type": "code",
   "execution_count": 4,
   "metadata": {},
   "outputs": [
    {
     "name": "stdout",
     "output_type": "stream",
     "text": [
      "The Moon has no atmosphere.\n",
      "The Moon has no atmosphere.No sound can be heard on the Moon.\n"
     ]
    }
   ],
   "source": [
    "fact = 'The Moon has no atmosphere.'\n",
    "fact + 'No sound can be heard on the Moon.'\n",
    "two_facts = fact + 'No sound can be heard on the Moon.'\n",
    "print(fact)\n",
    "print(two_facts)"
   ]
  },
  {
   "cell_type": "code",
   "execution_count": 10,
   "metadata": {},
   "outputs": [
    {
     "name": "stdout",
     "output_type": "stream",
     "text": [
      "Facts about the Moon:\n",
      " There is no atmosphere.\n",
      " There is no sound.\n",
      "Facts about the Moon: \n",
      "There is no atmosphere. \n",
      "There is no sound.\n"
     ]
    }
   ],
   "source": [
    "multiline = \"Facts about the Moon:\\n There is no atmosphere.\\n There is no sound.\"\n",
    "print(multiline)\n",
    "\n",
    "multiline = \"\"\"Facts about the Moon: \n",
    "There is no atmosphere. \n",
    "There is no sound.\"\"\"\n",
    "print(multiline)"
   ]
  },
  {
   "cell_type": "code",
   "execution_count": 14,
   "metadata": {},
   "outputs": [
    {
     "data": {
      "text/plain": [
       "'Temperatures And Facts About The Moon'"
      ]
     },
     "execution_count": 14,
     "metadata": {},
     "output_type": "execute_result"
    }
   ],
   "source": [
    "'temperatures and facts about the moon'.title()\n"
   ]
  },
  {
   "cell_type": "code",
   "execution_count": 16,
   "metadata": {},
   "outputs": [
    {
     "data": {
      "text/plain": [
       "['Daylight: 260 F', 'Nighttime: -280 F']"
      ]
     },
     "execution_count": 16,
     "metadata": {},
     "output_type": "execute_result"
    }
   ],
   "source": [
    "temperatures = '''Daylight: 260 F\n",
    "Nighttime: -280 F'''\n",
    "temperatures .split()\n",
    "\n",
    "temperatures .split('\\n')"
   ]
  },
  {
   "cell_type": "code",
   "execution_count": 21,
   "metadata": {},
   "outputs": [
    {
     "data": {
      "text/plain": [
       "-1"
      ]
     },
     "execution_count": 21,
     "metadata": {},
     "output_type": "execute_result"
    }
   ],
   "source": [
    "temperatures = \"\"\"Saturn has a daytime temperature of -170 degrees Celsius,\n",
    "while Mars has -28 Celsius.\"\"\"\n",
    "\n",
    "temperatures.find('Moon')\n",
    "temperatures.find('Mars')"
   ]
  },
  {
   "cell_type": "code",
   "execution_count": 23,
   "metadata": {},
   "outputs": [
    {
     "data": {
      "text/plain": [
       "0"
      ]
     },
     "execution_count": 23,
     "metadata": {},
     "output_type": "execute_result"
    }
   ],
   "source": [
    "temperatures.count('Moon')"
   ]
  },
  {
   "cell_type": "code",
   "execution_count": 26,
   "metadata": {},
   "outputs": [
    {
     "name": "stdout",
     "output_type": "stream",
     "text": [
      "the moon and the earth\n"
     ]
    },
    {
     "data": {
      "text/plain": [
       "'THE MOON AND THE EARTH'"
      ]
     },
     "execution_count": 26,
     "metadata": {},
     "output_type": "execute_result"
    }
   ],
   "source": [
    "print(\"The Moon And The Earth\".lower())\n",
    "'The Moon And The Earth'.upper()"
   ]
  },
  {
   "cell_type": "code",
   "execution_count": 28,
   "metadata": {},
   "outputs": [
    {
     "data": {
      "text/plain": [
       "' -60 C'"
      ]
     },
     "execution_count": 28,
     "metadata": {},
     "output_type": "execute_result"
    }
   ],
   "source": [
    "temperatures = 'Mars Average Temperature: -60 C'\n",
    "parts = temperatures.split(':')\n",
    "parts\n",
    "parts[-1] #El -1 devuelve el último elemento de la lista"
   ]
  },
  {
   "cell_type": "code",
   "execution_count": 45,
   "metadata": {},
   "outputs": [
    {
     "name": "stdout",
     "output_type": "stream",
     "text": [
      "-30\n",
      "This temperature is in Celsius\n"
     ]
    }
   ],
   "source": [
    "mars_temperature = 'The highest temperature on Mars is about -30 C'\n",
    "for item in mars_temperature.split():\n",
    "    if item.isnumeric() or item.startswith('-') :\n",
    "        print(item)\n",
    "\n",
    "    if item.endswith(\"C\"):\n",
    "        print(\"This temperature is in Celsius\")"
   ]
  },
  {
   "cell_type": "code",
   "execution_count": 46,
   "metadata": {},
   "outputs": [
    {
     "data": {
      "text/plain": [
       "'Saturn has a daytime temperature of -170 degrees C, while Mars has -28 C.'"
      ]
     },
     "execution_count": 46,
     "metadata": {},
     "output_type": "execute_result"
    }
   ],
   "source": [
    "'Saturn has a daytime temperature of -170 degrees Celsius, while Mars has -28 Celsius.'.replace('Celsius', 'C')"
   ]
  },
  {
   "cell_type": "code",
   "execution_count": 47,
   "metadata": {},
   "outputs": [
    {
     "data": {
      "text/plain": [
       "'The Moon is drifting away from the Earth.\\nOn average, the Moon is moving about 4cm every year'"
      ]
     },
     "execution_count": 47,
     "metadata": {},
     "output_type": "execute_result"
    }
   ],
   "source": [
    "moon_facts = ['The Moon is drifting away from the Earth.', 'On average, the Moon is moving about 4cm every year']\n",
    "'\\n'.join(moon_facts)"
   ]
  },
  {
   "cell_type": "code",
   "execution_count": 56,
   "metadata": {},
   "outputs": [
    {
     "name": "stdout",
     "output_type": "stream",
     "text": [
      "On the Moon, you would weigh about 1/6 of your weight on Earth\n",
      "Both sides of the Moon get the same amount of sunlight,\n",
      "    but only one side is seen from Earth because\n",
      "    the Moon rotates around its own axis when it orbits Earth.\n",
      "On the Moon, you would weigh about 1/6 of your weight on Earth\n",
      "You are lighter on the Moon, because on the Moon \n",
      "you would weigh about 1/6 of your weight on Earth\n",
      "You are lighter on the Moon, because on the Moon \n",
      "you would weigh about 1/6 of your weight on Earth\n",
      "On the Moon, you would weigh about 1/6 of your weight on Earth\n",
      "On the Moon, you would weigh about 16.7% of your weight on Earth\n"
     ]
    },
    {
     "data": {
      "text/plain": [
       "'Interesting Facts About The Moon'"
      ]
     },
     "execution_count": 56,
     "metadata": {},
     "output_type": "execute_result"
    }
   ],
   "source": [
    "mass_percentage = '1/6'\n",
    "print('On the Moon, you would weigh about %s of your weight on Earth' % mass_percentage)\n",
    "\n",
    "print(\"\"\"Both sides of the %s get the same amount of sunlight,\n",
    "    but only one side is seen from %s because\n",
    "    the %s rotates around its own axis when it orbits %s.\"\"\" % ('Moon', 'Earth', 'Moon', 'Earth'))\n",
    "\n",
    "mass_percentage = '1/6'\n",
    "print('On the Moon, you would weigh about {} of your weight on Earth'.format(mass_percentage))\n",
    "\n",
    "print(\"\"\"You are lighter on the {0}, because on the {0} \n",
    "you would weigh about {1} of your weight on Earth\"\"\".format(\"Moon\", mass_percentage))\n",
    "\n",
    "print(\"\"\"You are lighter on the {moon}, because on the {moon} \n",
    "you would weigh about {mass} of your weight on Earth\"\"\".format(moon=\"Moon\", mass=mass_percentage))\n",
    "\n",
    "print(f'On the Moon, you would weigh about {mass_percentage} of your weight on Earth') #versión 3.6 en adelante\n",
    "\n",
    "print(f'On the Moon, you would weigh about {round(100/6, 1)}% of your weight on Earth')\n",
    "\n",
    "subject = 'interesting facts about the moon'\n",
    "f'{subject.title()}'"
   ]
  }
 ],
 "metadata": {
  "interpreter": {
   "hash": "9efce205f64ad363cd9f14615485aca38ee4ef0915866e318aa83c8d0c93f6fc"
  },
  "kernelspec": {
   "display_name": "Python 3.10.2 64-bit",
   "language": "python",
   "name": "python3"
  },
  "language_info": {
   "codemirror_mode": {
    "name": "ipython",
    "version": 3
   },
   "file_extension": ".py",
   "mimetype": "text/x-python",
   "name": "python",
   "nbconvert_exporter": "python",
   "pygments_lexer": "ipython3",
   "version": "3.10.2"
  },
  "orig_nbformat": 4
 },
 "nbformat": 4,
 "nbformat_minor": 2
}
