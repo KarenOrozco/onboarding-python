{
 "cells": [
  {
   "cell_type": "code",
   "execution_count": null,
   "metadata": {},
   "outputs": [],
   "source": [
    "velocidadAsteroide = 49\n",
    "\n",
    "if velocidadAsteroide > 25:\n",
    "    print(\"Advertencia: Ha superado la velocidad máxima\")\n",
    "else:\n",
    "    print(\"Velocidad normal\")"
   ]
  }
 ],
 "metadata": {
  "language_info": {
   "name": "python"
  },
  "orig_nbformat": 4
 },
 "nbformat": 4,
 "nbformat_minor": 2
}
