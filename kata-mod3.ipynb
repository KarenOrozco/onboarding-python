{
 "cells": [
  {
   "cell_type": "code",
   "execution_count": 1,
   "metadata": {},
   "outputs": [
    {
     "name": "stdout",
     "output_type": "stream",
     "text": [
      "Advertencia: Ha superado la velocidad máxima\n"
     ]
    }
   ],
   "source": [
    "velocidadAsteroide = 49\n",
    "\n",
    "if velocidadAsteroide > 25:\n",
    "    print(\"Advertencia: Ha superado la velocidad máxima\")\n",
    "else:\n",
    "    print(\"Velocidad normal, sin peligro\")"
   ]
  },
  {
   "cell_type": "code",
   "execution_count": 2,
   "metadata": {},
   "outputs": [
    {
     "name": "stdout",
     "output_type": "stream",
     "text": [
      "Velocidad normal, sin peligro\n"
     ]
    }
   ],
   "source": [
    "velocidadAsteroide = 19\n",
    "\n",
    "if velocidadAsteroide > 20:\n",
    "    print(\"Advertencia: asteroide con velocidad mayor 20\")\n",
    "elif velocidadAsteroide == 20:\n",
    "    print(\"Advertencia: asteroide con velocidad igual a 20\")\n",
    "else:\n",
    "    print(\"Velocidad normal, sin peligro\")\n",
    "\n"
   ]
  },
  {
   "cell_type": "code",
   "execution_count": 23,
   "metadata": {},
   "outputs": [
    {
     "name": "stdout",
     "output_type": "stream",
     "text": [
      "Sin peligro\n"
     ]
    }
   ],
   "source": [
    "velocidadAsteroide = 10\n",
    "tamanoAsteroide = 30\n",
    "\n",
    "if tamanoAsteroide > 25 and tamanoAsteroide < 1000:\n",
    "    if velocidadAsteroide > 25:\n",
    "        print(\"Advertencia: Asteroide de gran tamaño a gran velocidad\")\n",
    "    elif velocidadAsteroide > 20 or velocidadAsteroide == 20:\n",
    "        print(\"Mira al cielo, rayo de luz!\")\n",
    "    else:\n",
    "        print(\"Sin peligro\")\n",
    "else:\n",
    "    if velocidadAsteroide > 25:\n",
    "        print(\"Advertencia: Asteroide pequeño se acerca a gran velocidad\")\n",
    "    elif velocidadAsteroide > 20 or velocidadAsteroide == 20:\n",
    "        print(\"Mira al cielo, rayo de luz!\")\n",
    "    else:\n",
    "        print(\"Sin peligro\")"
   ]
  }
 ],
 "metadata": {
  "interpreter": {
   "hash": "9efce205f64ad363cd9f14615485aca38ee4ef0915866e318aa83c8d0c93f6fc"
  },
  "kernelspec": {
   "display_name": "Python 3.10.2 64-bit",
   "language": "python",
   "name": "python3"
  },
  "language_info": {
   "codemirror_mode": {
    "name": "ipython",
    "version": 3
   },
   "file_extension": ".py",
   "mimetype": "text/x-python",
   "name": "python",
   "nbconvert_exporter": "python",
   "pygments_lexer": "ipython3",
   "version": "3.10.2"
  },
  "orig_nbformat": 4
 },
 "nbformat": 4,
 "nbformat_minor": 2
}
