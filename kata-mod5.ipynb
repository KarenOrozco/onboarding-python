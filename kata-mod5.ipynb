{
 "cells": [
  {
   "cell_type": "markdown",
   "metadata": {},
   "source": [
    "KATA MÓDULO 5"
   ]
  },
  {
   "cell_type": "markdown",
   "metadata": {},
   "source": [
    "EJERCICIO 1"
   ]
  },
  {
   "cell_type": "code",
   "execution_count": 28,
   "metadata": {},
   "outputs": [],
   "source": [
    "planet1 = 149597870\n",
    "planet2 = 778547200"
   ]
  },
  {
   "cell_type": "code",
   "execution_count": 35,
   "metadata": {},
   "outputs": [],
   "source": [
    "distanceKm = ceil(abs(planet1 - planet2))\n",
    "distanceMiles = ceil(distanceKm * 0.621)"
   ]
  },
  {
   "cell_type": "code",
   "execution_count": 36,
   "metadata": {},
   "outputs": [
    {
     "name": "stdout",
     "output_type": "stream",
     "text": [
      "628949330\n",
      "390577534\n"
     ]
    }
   ],
   "source": [
    "print(distanceKm)\n",
    "print(distanceMiles)"
   ]
  },
  {
   "cell_type": "markdown",
   "metadata": {},
   "source": [
    "EJERCICIO 2"
   ]
  },
  {
   "cell_type": "code",
   "execution_count": 44,
   "metadata": {},
   "outputs": [],
   "source": [
    "planet1 = input(\"Ingresa la distancia del sol al planeta 1\")\n",
    "planet2 = input(\"Ingresa la distancia del sol al planeta 2\")"
   ]
  },
  {
   "cell_type": "code",
   "execution_count": 45,
   "metadata": {},
   "outputs": [],
   "source": [
    "planet1 = int(planet1)\n",
    "planet2 = int(planet2)"
   ]
  },
  {
   "cell_type": "code",
   "execution_count": 46,
   "metadata": {},
   "outputs": [
    {
     "name": "stdout",
     "output_type": "stream",
     "text": [
      "50300000\n",
      "31236300\n"
     ]
    }
   ],
   "source": [
    "distanceKm = abs(planet1 - planet2)\n",
    "distanceMiles = round(distanceKm * 0.621)\n",
    "\n",
    "print(distanceKm)\n",
    "print(distanceMiles)"
   ]
  },
  {
   "cell_type": "markdown",
   "metadata": {},
   "source": [
    "EJERCICIOS DOCUMENTACIÓN MÓDULO 5\n",
    "\n",
    "Operadores más comunes\n",
    "-suma\n",
    "-resta\n",
    "-multiplicación\n",
    "-división\n",
    "\n",
    "Jerarquía de operaciones\n",
    "1- Parentesís\n",
    "2- Exponentes\n",
    "3- Múltiplicación y división\n",
    "4- Suma y resta\n",
    "\n",
    "Cadenas a números - Conversión\n",
    "-int()\n",
    "-float()\n",
    "\n",
    "Manejo de números absolutos (número no negativo sin su signo)\n",
    "-abs()\n",
    "\n",
    "Redondeo\n",
    "-round()\n",
    "\n",
    "Biblioteca Math\n",
    "-Redondeo hacía arriba ceil()\n",
    "-Redondeo hacía abajo floor()"
   ]
  },
  {
   "cell_type": "code",
   "execution_count": 1,
   "metadata": {},
   "outputs": [
    {
     "name": "stdout",
     "output_type": "stream",
     "text": [
      "42\n"
     ]
    }
   ],
   "source": [
    "#Suma\n",
    "answer = 30 + 12\n",
    "print(answer)"
   ]
  },
  {
   "cell_type": "code",
   "execution_count": 2,
   "metadata": {},
   "outputs": [
    {
     "name": "stdout",
     "output_type": "stream",
     "text": [
      "18\n"
     ]
    }
   ],
   "source": [
    "#Resta\n",
    "difference = 30 - 12\n",
    "print(difference)"
   ]
  },
  {
   "cell_type": "code",
   "execution_count": 3,
   "metadata": {},
   "outputs": [
    {
     "name": "stdout",
     "output_type": "stream",
     "text": [
      "360\n"
     ]
    }
   ],
   "source": [
    "#Multiplicación\n",
    "product = 30 * 12\n",
    "print(product)"
   ]
  },
  {
   "cell_type": "code",
   "execution_count": 4,
   "metadata": {},
   "outputs": [
    {
     "name": "stdout",
     "output_type": "stream",
     "text": [
      "2.5\n"
     ]
    }
   ],
   "source": [
    "#División\n",
    "quotient = 30 / 12\n",
    "print(quotient)"
   ]
  },
  {
   "cell_type": "code",
   "execution_count": 12,
   "metadata": {},
   "outputs": [
    {
     "name": "stdout",
     "output_type": "stream",
     "text": [
      "17 minutes 22 seconds\n"
     ]
    }
   ],
   "source": [
    "#Ejemplo división segundos a minutos y segundos\n",
    "\n",
    "seconds = 1042\n",
    "display_minutes = 1042 // 60 #Así podemos obtener solo el número entero de dividir dos numeros (descarta los decimales)\n",
    "display_seconds = 1042 % 60 #Es el resto de la división (cuando la división no da un número entero sin decimales)\n",
    "\n",
    "print(str(display_minutes) + \" minutes \" + str(display_seconds) + \" seconds\")"
   ]
  },
  {
   "cell_type": "code",
   "execution_count": 15,
   "metadata": {},
   "outputs": [
    {
     "name": "stdout",
     "output_type": "stream",
     "text": [
      "1084\n",
      "1084\n"
     ]
    }
   ],
   "source": [
    "#Jerarquía de operaciones (ambas darán el mismo resultado)\n",
    "result_1 = 1032 + 26 * 2\n",
    "result_2 = 1032 + (26 * 2) #Recomendable usar parentesís para mayor comprensión de la operación\n",
    "\n",
    "print(result_1)\n",
    "print(result_2)"
   ]
  },
  {
   "cell_type": "code",
   "execution_count": 20,
   "metadata": {},
   "outputs": [
    {
     "name": "stdout",
     "output_type": "stream",
     "text": [
      "215\n",
      "215.3\n"
     ]
    }
   ],
   "source": [
    "#Convertir cadenas a números\n",
    "\n",
    "demo_int = int('215')\n",
    "print(demo_int)\n",
    "\n",
    "demo_float = float('215.3')\n",
    "print(demo_float)"
   ]
  },
  {
   "cell_type": "code",
   "execution_count": 21,
   "metadata": {},
   "outputs": [
    {
     "name": "stdout",
     "output_type": "stream",
     "text": [
      "23\n",
      "23\n"
     ]
    }
   ],
   "source": [
    "#Valores absolutos\n",
    "a = 39 - 16\n",
    "b = 16 - 39\n",
    "\n",
    "print(abs(39 - 16))\n",
    "print(abs(16 - 39))"
   ]
  },
  {
   "cell_type": "code",
   "execution_count": 26,
   "metadata": {},
   "outputs": [
    {
     "name": "stdout",
     "output_type": "stream",
     "text": [
      "14\n",
      "15\n",
      "15\n",
      "15\n"
     ]
    }
   ],
   "source": [
    "#Redondeo\n",
    "print(round(14.5)) #Redondea hacía abajo\n",
    "print(round(14.59)) #Redondea hacía arriba\n",
    "print(round(14.51)) #Redondea hacía arriba\n",
    "print(round(14.501))"
   ]
  },
  {
   "cell_type": "code",
   "execution_count": 27,
   "metadata": {},
   "outputs": [
    {
     "name": "stdout",
     "output_type": "stream",
     "text": [
      "13\n",
      "12\n"
     ]
    }
   ],
   "source": [
    "#Biblioteca Math\n",
    "from math import ceil, floor #importando biblioteca\n",
    "\n",
    "round_up = ceil(12.5) #Redondea hacía arriba\n",
    "print(round_up)\n",
    "\n",
    "round_down = floor(12.5) #Redondea hacía abajo\n",
    "print(round_down)"
   ]
  }
 ],
 "metadata": {
  "interpreter": {
   "hash": "9efce205f64ad363cd9f14615485aca38ee4ef0915866e318aa83c8d0c93f6fc"
  },
  "kernelspec": {
   "display_name": "Python 3.10.2 64-bit",
   "language": "python",
   "name": "python3"
  },
  "language_info": {
   "codemirror_mode": {
    "name": "ipython",
    "version": 3
   },
   "file_extension": ".py",
   "mimetype": "text/x-python",
   "name": "python",
   "nbconvert_exporter": "python",
   "pygments_lexer": "ipython3",
   "version": "3.10.2"
  },
  "orig_nbformat": 4
 },
 "nbformat": 4,
 "nbformat_minor": 2
}
